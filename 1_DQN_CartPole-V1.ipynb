{
 "cells": [
  {
   "cell_type": "markdown",
   "metadata": {},
   "source": [
    "# Importing Dependencies"
   ]
  },
  {
   "cell_type": "code",
   "execution_count": 1,
   "metadata": {},
   "outputs": [],
   "source": [
    "from torch import nn\n",
    "import torch\n",
    "import gym\n",
    "from collections import deque\n",
    "import itertools\n",
    "import numpy as np\n",
    "import random"
   ]
  },
  {
   "cell_type": "markdown",
   "metadata": {},
   "source": [
    "# Defining Hyper Parameteres"
   ]
  },
  {
   "cell_type": "code",
   "execution_count": 2,
   "metadata": {},
   "outputs": [],
   "source": [
    "GAMMA=0.99 #Discount rate\n",
    "LEARNING_RATE=5e-4 #learning rate \n",
    "BATCH_SIZE=32 #Number of samples from repaly buffer\n",
    "BUFFER_SIZE=50000 #Maximum size before overwritting\n",
    "MIN_REPLAY_SIZE=1000 #Number of transiotions in replay buffer before computing gradients\n",
    "EPSILON_START=1.0 #Starting value of eps\n",
    "EPSILON_END=0.002 #Ending value of eps\n",
    "EPSILON_DECAY=10000 #Decay value of eps\n",
    "TARGET_UPDATE_FREQ=1000 #Number of steps of target update"
   ]
  },
  {
   "cell_type": "markdown",
   "metadata": {},
   "source": [
    "# Creating Environment"
   ]
  },
  {
   "cell_type": "code",
   "execution_count": 3,
   "metadata": {},
   "outputs": [],
   "source": [
    "env =gym.make(\"CartPole-v0\")"
   ]
  },
  {
   "cell_type": "markdown",
   "metadata": {},
   "source": [
    "### Inderstanding the Environment"
   ]
  },
  {
   "cell_type": "code",
   "execution_count": 4,
   "metadata": {},
   "outputs": [
    {
     "name": "stdout",
     "output_type": "stream",
     "text": [
      "Action_space:  Discrete(2) \n",
      "\n",
      "Number of actions:  2 \n",
      "\n",
      "Action_space sample: 0 \n",
      "\n",
      "Observation_space:  Box([-4.8000002e+00 -3.4028235e+38 -4.1887903e-01 -3.4028235e+38], [4.8000002e+00 3.4028235e+38 4.1887903e-01 3.4028235e+38], (4,), float32) \n",
      "\n",
      "State shape:  (4,) \n",
      "\n",
      "Observation_space sample: [-2.0469534e+00 -2.4417427e+38 -2.6461276e-01  1.1647263e+38] \n",
      "\n"
     ]
    }
   ],
   "source": [
    "print('Action_space: ',env.action_space,\"\\n\")\n",
    "print('Number of actions: ', env.action_space.n,\"\\n\")\n",
    "print('Action_space sample:',env.action_space.sample(),\"\\n\")\n",
    "print('Observation_space: ',env.observation_space,\"\\n\")\n",
    "print('State shape: ', env.observation_space.shape,\"\\n\")\n",
    "print('Observation_space sample:',env.observation_space.sample(),\"\\n\")\n"
   ]
  },
  {
   "cell_type": "markdown",
   "metadata": {},
   "source": [
    "### Testing Untrained Agent"
   ]
  },
  {
   "cell_type": "code",
   "execution_count": 5,
   "metadata": {},
   "outputs": [
    {
     "name": "stdout",
     "output_type": "stream",
     "text": [
      "episode:1 score:13.0\n",
      "episode:2 score:39.0\n",
      "episode:3 score:55.0\n",
      "episode:4 score:48.0\n",
      "episode:5 score:23.0\n"
     ]
    }
   ],
   "source": [
    "episodes=5\n",
    "for episode in range(1,episodes+1):\n",
    "    state=env.reset()\n",
    "    done=False\n",
    "    score=0\n",
    "    \n",
    "    while not done:\n",
    "        env.render()\n",
    "        action=env.action_space.sample()\n",
    "        n_state,reward,done,info=env.step(action)\n",
    "        score+=reward\n",
    "    print(\"episode:{} score:{}\".format(episode,score))"
   ]
  },
  {
   "cell_type": "code",
   "execution_count": 6,
   "metadata": {},
   "outputs": [],
   "source": [
    "env.close()"
   ]
  },
  {
   "cell_type": "markdown",
   "metadata": {},
   "source": [
    "# Training an agent using DQN Algorithm"
   ]
  },
  {
   "cell_type": "code",
   "execution_count": 7,
   "metadata": {},
   "outputs": [],
   "source": [
    "replay_buffer=deque(maxlen=BUFFER_SIZE) #creating replay buffer\n",
    "rew_buffer=deque([0,0],maxlen=100) #To store the rewards earned in a single episode\n",
    "episode_reward=0.0"
   ]
  },
  {
   "cell_type": "markdown",
   "metadata": {},
   "source": [
    "### Creating Network Class"
   ]
  },
  {
   "cell_type": "code",
   "execution_count": 8,
   "metadata": {},
   "outputs": [],
   "source": [
    "class Network(nn.Module):\n",
    "    def __init__(self,env):\n",
    "        super().__init__()\n",
    "        \n",
    "        in_features=int(np.prod(env.observation_space.shape))\n",
    "        self.net=nn.Sequential(\n",
    "           nn.Linear(in_features,64),\n",
    "           nn.Tanh(),\n",
    "           nn.Linear(64,env.action_space.n))\n",
    "    def forward(self,x):\n",
    "        return self.net(x)\n",
    "    def act(self,obs):\n",
    "        obs_t=torch.as_tensor(obs,dtype=torch.float32)\n",
    "        q_values=self(obs_t.unsqueeze(0))\n",
    "        max_q_index=torch.argmax(q_values,dim=1)[0]\n",
    "        action=max_q_index.detach().item()\n",
    "        \n",
    "        return action \n",
    "    "
   ]
  },
  {
   "cell_type": "markdown",
   "metadata": {},
   "source": [
    "### Creating Network"
   ]
  },
  {
   "cell_type": "code",
   "execution_count": 9,
   "metadata": {},
   "outputs": [],
   "source": [
    "online_net=Network(env)\n",
    "target_net=Network(env)\n",
    "target_net.load_state_dict(online_net.state_dict())\n",
    "#create optimizer\n",
    "optimizer=torch.optim.Adam(online_net.parameters(),lr=LEARNING_RATE)"
   ]
  },
  {
   "cell_type": "markdown",
   "metadata": {},
   "source": [
    "### Initilizing Replay Buffer"
   ]
  },
  {
   "cell_type": "code",
   "execution_count": 10,
   "metadata": {},
   "outputs": [],
   "source": [
    "obs=env.reset() #reset environmet\n",
    "for _ in range(MIN_REPLAY_SIZE):\n",
    "    action=env.action_space.sample()\n",
    "    \n",
    "    new_obs,rew,done,_=env.step(action)\n",
    "    transition=(obs,action,rew,done,new_obs)\n",
    "    replay_buffer.append(transition)\n",
    "    obs=new_obs\n",
    "    if done:\n",
    "        obs=env.reset()\n",
    "        "
   ]
  },
  {
   "cell_type": "markdown",
   "metadata": {},
   "source": [
    "### Training loop"
   ]
  },
  {
   "cell_type": "code",
   "execution_count": 11,
   "metadata": {},
   "outputs": [
    {
     "name": "stdout",
     "output_type": "stream",
     "text": [
      "step 0\n",
      "avg rew 0.0\n",
      "step 1000\n",
      "avg rew 19.62\n",
      "step 2000\n",
      "avg rew 21.180851063829788\n",
      "step 3000\n",
      "avg rew 23.55\n",
      "step 4000\n",
      "avg rew 28.04\n",
      "step 5000\n",
      "avg rew 33.73\n",
      "step 6000\n",
      "avg rew 42.13\n",
      "step 7000\n",
      "avg rew 49.86\n",
      "step 8000\n",
      "avg rew 57.24\n",
      "step 9000\n",
      "avg rew 66.8\n",
      "step 10000\n",
      "avg rew 75.62\n",
      "step 11000\n",
      "avg rew 84.29\n",
      "step 12000\n",
      "avg rew 92.77\n",
      "step 13000\n",
      "avg rew 101.34\n",
      "step 14000\n",
      "avg rew 109.89\n",
      "step 15000\n",
      "avg rew 117.99\n",
      "step 16000\n",
      "avg rew 126.35\n",
      "step 17000\n",
      "avg rew 134.57\n",
      "step 18000\n",
      "avg rew 142.22\n",
      "step 19000\n",
      "avg rew 149.75\n",
      "step 20000\n",
      "avg rew 157.59\n",
      "step 21000\n",
      "avg rew 165.84\n",
      "step 22000\n",
      "avg rew 172.54\n",
      "step 23000\n",
      "avg rew 177.56\n",
      "step 24000\n",
      "avg rew 182.84\n",
      "step 25000\n",
      "avg rew 187.67\n",
      "step 26000\n",
      "avg rew 191.27\n",
      "step 27000\n",
      "avg rew 195.45\n",
      "step 28000\n",
      "avg rew 198.08\n",
      "step 29000\n",
      "avg rew 198.39\n",
      "step 30000\n",
      "avg rew 198.04\n",
      "step 31000\n",
      "avg rew 197.63\n",
      "step 32000\n",
      "avg rew 196.92\n",
      "step 33000\n",
      "avg rew 196.03\n",
      "step 34000\n",
      "avg rew 194.02\n",
      "step 35000\n",
      "avg rew 192.31\n",
      "step 36000\n",
      "avg rew 190.98\n",
      "step 37000\n",
      "avg rew 189.02\n",
      "step 38000\n",
      "avg rew 186.58\n",
      "step 39000\n",
      "avg rew 184.14\n",
      "step 40000\n",
      "avg rew 181.9\n",
      "step 41000\n",
      "avg rew 181.09\n",
      "step 42000\n",
      "avg rew 179.95\n",
      "step 43000\n",
      "avg rew 178.51\n",
      "step 44000\n",
      "avg rew 176.31\n",
      "step 45000\n",
      "avg rew 174.81\n",
      "step 46000\n",
      "avg rew 173.41\n",
      "step 47000\n",
      "avg rew 170.51\n",
      "step 48000\n",
      "avg rew 168.36\n",
      "step 49000\n",
      "avg rew 167.42\n",
      "step 50000\n",
      "avg rew 166.87\n",
      "step 51000\n",
      "avg rew 168.2\n",
      "step 52000\n",
      "avg rew 168.75\n",
      "step 53000\n",
      "avg rew 170.06\n",
      "step 54000\n",
      "avg rew 171.84\n",
      "step 55000\n",
      "avg rew 174.17\n",
      "step 56000\n",
      "avg rew 175.45\n",
      "step 57000\n",
      "avg rew 176.97\n",
      "step 58000\n",
      "avg rew 177.81\n",
      "step 59000\n",
      "avg rew 178.29\n",
      "step 60000\n",
      "avg rew 179.24\n",
      "step 61000\n",
      "avg rew 180.83\n",
      "step 62000\n",
      "avg rew 182.7\n",
      "step 63000\n",
      "avg rew 183.57\n",
      "step 64000\n",
      "avg rew 183.94\n",
      "step 65000\n",
      "avg rew 186.04\n",
      "step 66000\n",
      "avg rew 188.86\n",
      "step 67000\n",
      "avg rew 190.73\n",
      "step 68000\n",
      "avg rew 191.75\n",
      "step 69000\n",
      "avg rew 193.19\n",
      "step 70000\n",
      "avg rew 194.38\n",
      "step 71000\n",
      "avg rew 194.24\n",
      "step 72000\n",
      "avg rew 194.54\n",
      "step 73000\n",
      "avg rew 194.63\n",
      "step 74000\n",
      "avg rew 194.06\n",
      "step 75000\n",
      "avg rew 193.59\n",
      "step 76000\n",
      "avg rew 193.77\n",
      "step 77000\n",
      "avg rew 194.13\n",
      "step 78000\n",
      "avg rew 194.54\n",
      "step 79000\n",
      "avg rew 194.53\n",
      "step 80000\n",
      "avg rew 193.69\n",
      "step 81000\n",
      "avg rew 193.31\n",
      "step 82000\n",
      "avg rew 193.23\n",
      "step 83000\n",
      "avg rew 193.92\n",
      "step 84000\n",
      "avg rew 193.54\n",
      "step 85000\n",
      "avg rew 193.11\n",
      "step 86000\n",
      "avg rew 192.21\n",
      "step 87000\n",
      "avg rew 191.86\n",
      "step 88000\n",
      "avg rew 192.18\n",
      "step 89000\n",
      "avg rew 191.66\n",
      "step 90000\n",
      "avg rew 191.58\n",
      "step 91000\n",
      "avg rew 191.63\n",
      "step 92000\n",
      "avg rew 191.47\n",
      "step 93000\n",
      "avg rew 192.16\n",
      "step 94000\n",
      "avg rew 192.67\n",
      "step 95000\n",
      "avg rew 192.38\n",
      "step 96000\n",
      "avg rew 192.67\n",
      "step 97000\n",
      "avg rew 192.93\n",
      "step 98000\n",
      "avg rew 192.71\n",
      "step 99000\n",
      "avg rew 193.27\n",
      "step 100000\n",
      "avg rew 193.77\n",
      "step 101000\n",
      "avg rew 194.09\n",
      "step 102000\n",
      "avg rew 193.63\n",
      "step 103000\n",
      "avg rew 194.1\n",
      "step 104000\n",
      "avg rew 194.65\n",
      "step 105000\n",
      "avg rew 195.21\n",
      "step 106000\n",
      "avg rew 196.25\n",
      "step 107000\n",
      "avg rew 196.51\n",
      "step 108000\n",
      "avg rew 196.31\n",
      "step 109000\n",
      "avg rew 196.14\n",
      "step 110000\n",
      "avg rew 195.97\n",
      "step 111000\n",
      "avg rew 195.97\n",
      "step 112000\n",
      "avg rew 196.21\n",
      "step 113000\n",
      "avg rew 196.11\n",
      "step 114000\n",
      "avg rew 196.33\n",
      "step 115000\n",
      "avg rew 196.79\n",
      "step 116000\n",
      "avg rew 196.79\n",
      "step 117000\n",
      "avg rew 197.05\n",
      "step 118000\n",
      "avg rew 197.05\n",
      "step 119000\n",
      "avg rew 197.0\n",
      "step 120000\n",
      "avg rew 197.16\n",
      "step 121000\n",
      "avg rew 197.34\n",
      "step 122000\n",
      "avg rew 197.71\n",
      "step 123000\n",
      "avg rew 197.71\n",
      "step 124000\n",
      "avg rew 197.72\n",
      "step 125000\n",
      "avg rew 197.8\n",
      "step 126000\n",
      "avg rew 197.89\n",
      "step 127000\n",
      "avg rew 197.89\n",
      "step 128000\n",
      "avg rew 198.41\n",
      "step 129000\n",
      "avg rew 199.58\n",
      "step 130000\n",
      "avg rew 199.75\n",
      "step 131000\n",
      "avg rew 199.75\n",
      "step 132000\n",
      "avg rew 199.9\n",
      "step 133000\n",
      "avg rew 199.9\n",
      "step 134000\n",
      "avg rew 199.9\n",
      "step 135000\n",
      "avg rew 199.9\n",
      "step 136000\n",
      "avg rew 199.9\n",
      "step 137000\n",
      "avg rew 199.9\n",
      "step 138000\n",
      "avg rew 199.9\n"
     ]
    }
   ],
   "source": [
    "obs = env.reset()\n",
    "scores=[]\n",
    "for step in itertools.count():\n",
    "    epsilon=np.interp(step,[0,EPSILON_DECAY],[EPSILON_START,EPSILON_END])\n",
    "    \n",
    "    rnd_sample=random.random()\n",
    "    if rnd_sample <= epsilon:\n",
    "        action=env.action_space.sample()\n",
    "    else:\n",
    "        action=online_net.act(obs)\n",
    "    new_obs,rew,done,_=env.step(action)\n",
    "    transition=(obs,action,rew,done,new_obs)\n",
    "    replay_buffer.append(transition)\n",
    "    obs=new_obs\n",
    "    \n",
    "    episode_reward+=rew\n",
    "    \n",
    "    if done:\n",
    "        obs=env.reset()\n",
    "        \n",
    "        rew_buffer.append(episode_reward)\n",
    "        episode_reward=0.0\n",
    "    \n",
    "        \n",
    "    # Start Gradient Step\n",
    "    transitions=random.sample(replay_buffer,BATCH_SIZE)\n",
    "    \n",
    "    obses=np.asarray([t[0] for t in transitions])\n",
    "    actions=np.asarray([t[1]for t in transitions])\n",
    "    rews=np.asarray([t[2]for t in transitions])\n",
    "    dones=np.asarray([t[3]for t in transitions])\n",
    "    new_obses=np.asarray([t[4] for t in transitions])\n",
    "    \n",
    "    obses_t = torch.as_tensor(obses,dtype=torch.float32)\n",
    "    actions_t = torch.as_tensor(actions,dtype=torch.int64).unsqueeze(-1)\n",
    "    rews_t = torch.as_tensor(rews,dtype=torch.float32).unsqueeze(-1)\n",
    "    dones_t = torch.as_tensor(dones,dtype=torch.float32).unsqueeze(-1)\n",
    "    new_obses_t = torch.as_tensor(new_obses,dtype=torch.float32)\n",
    "    \n",
    "    #Compute Targets\n",
    "    target_q_values=target_net(new_obses_t)\n",
    "    max_target_q_values=target_q_values.max(dim=1,keepdim=True)[0]\n",
    "    \n",
    "    targets=rews_t+GAMMA*(1-dones_t)*max_target_q_values\n",
    "    \n",
    "    #compute loss\n",
    "    q_values=online_net(obses_t)\n",
    "    \n",
    "    action_q_values=torch.gather(input=q_values,dim=1,index=actions_t)\n",
    "    \n",
    "    loss=nn.functional.smooth_l1_loss(action_q_values,targets)\n",
    "    \n",
    "    #gradient descent\n",
    "    optimizer.zero_grad()\n",
    "    loss.backward()\n",
    "    optimizer.step()\n",
    "    \n",
    "    #update target network\n",
    "    if step % TARGET_UPDATE_FREQ==0:\n",
    "        target_net.load_state_dict(online_net.state_dict())\n",
    "        \n",
    "    #logging\n",
    "    if step%1000==0:\n",
    "        print('step',step)\n",
    "        print('avg rew',np.mean(rew_buffer))\n",
    "        scores.append(np.mean(rew_buffer))\n",
    "    if (np.mean(rew_buffer)>=200):\n",
    "        break   \n",
    "        "
   ]
  },
  {
   "cell_type": "markdown",
   "metadata": {},
   "source": [
    "# Testing the trained Agent"
   ]
  },
  {
   "cell_type": "code",
   "execution_count": 12,
   "metadata": {},
   "outputs": [
    {
     "name": "stdout",
     "output_type": "stream",
     "text": [
      "episode:1 score:200.0\n",
      "episode:2 score:200.0\n",
      "episode:3 score:200.0\n",
      "episode:4 score:200.0\n",
      "episode:5 score:200.0\n"
     ]
    }
   ],
   "source": [
    "episodes=5\n",
    "for episode in range(1,episodes+1):\n",
    "    obs=env.reset()\n",
    "    done=False\n",
    "    score=0\n",
    "    \n",
    "    while not done:\n",
    "        env.render()\n",
    "        action=online_net.act(obs)\n",
    "        obs,reward,done,info=env.step(action)\n",
    "        score+=reward\n",
    "    print(\"episode:{} score:{}\".format(episode,score))"
   ]
  },
  {
   "cell_type": "code",
   "execution_count": 13,
   "metadata": {},
   "outputs": [],
   "source": [
    "env.close()"
   ]
  },
  {
   "cell_type": "markdown",
   "metadata": {},
   "source": [
    "# Plotting Results"
   ]
  },
  {
   "cell_type": "code",
   "execution_count": 14,
   "metadata": {},
   "outputs": [
    {
     "data": {
      "image/png": "[encoded data removed]",
      "text/plain": [
       "<Figure size 432x288 with 1 Axes>"
      ]
     },
     "metadata": {
      "needs_background": "light"
     },
     "output_type": "display_data"
    }
   ],
   "source": [
    "# plot the scores\n",
    "import matplotlib.pyplot as plt\n",
    "fig = plt.figure()\n",
    "ax = fig.add_subplot(111)\n",
    "plt.plot(np.arange(len(scores)), scores)\n",
    "plt.ylabel('Score')\n",
    "plt.xlabel('Episode #')\n",
    "plt.show()"
   ]
  }
 ],
 "metadata": {
  "kernelspec": {
   "display_name": "Python 3",
   "language": "python",
   "name": "python3"
  },
  "language_info": {
   "codemirror_mode": {
    "name": "ipython",
    "version": 3
   },
   "file_extension": ".py",
   "mimetype": "text/x-python",
   "name": "python",
   "nbconvert_exporter": "python",
   "pygments_lexer": "ipython3",
   "version": "3.8.5"
  }
 },
 "nbformat": 4,
 "nbformat_minor": 4
}
